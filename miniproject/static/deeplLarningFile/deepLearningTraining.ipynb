{
 "cells": [
  {
   "cell_type": "code",
   "execution_count": null,
   "id": "cf0ed2f9-2543-4dd7-b6f7-a646e071483e",
   "metadata": {},
   "outputs": [],
   "source": [
    "import numpy as np\n",
    "import pandas as pd\n",
    "import matplotlib.pyplot as plt"
   ]
  },
  {
   "cell_type": "code",
   "execution_count": 2,
   "id": "f83e111c-9ceb-4e57-9134-47419446e139",
   "metadata": {},
   "outputs": [],
   "source": [
    "train = pd.read_csv(\"Training.csv\")"
   ]
  },
  {
   "cell_type": "code",
   "execution_count": 3,
   "id": "8569dd75-475d-4f89-a992-747bb3e2719e",
   "metadata": {},
   "outputs": [],
   "source": [
    "test = pd.read_csv(\"Testing.csv\")"
   ]
  },
  {
   "cell_type": "code",
   "execution_count": 4,
   "id": "bb47a526-b868-4fee-a86e-1b701f8080c1",
   "metadata": {},
   "outputs": [],
   "source": [
    "train.drop(\"Unnamed: 133\",axis=1,inplace=True)"
   ]
  },
  {
   "cell_type": "code",
   "execution_count": 5,
   "id": "d5d98fdc-e8a0-434f-93a1-817ae2c8ae4d",
   "metadata": {},
   "outputs": [
    {
     "data": {
      "text/plain": [
       "itching                 0\n",
       "skin_rash               0\n",
       "nodal_skin_eruptions    0\n",
       "continuous_sneezing     0\n",
       "shivering               0\n",
       "                       ..\n",
       "inflammatory_nails      0\n",
       "blister                 0\n",
       "red_sore_around_nose    0\n",
       "yellow_crust_ooze       0\n",
       "prognosis               0\n",
       "Length: 133, dtype: int64"
      ]
     },
     "execution_count": 5,
     "metadata": {},
     "output_type": "execute_result"
    }
   ],
   "source": [
    "train.isnull().sum()"
   ]
  },
  {
   "cell_type": "code",
   "execution_count": 6,
   "id": "2d90d3a4-5fad-4d9e-b567-2a9ba2e9f90c",
   "metadata": {},
   "outputs": [
    {
     "data": {
      "text/plain": [
       "itching                 0\n",
       "skin_rash               0\n",
       "nodal_skin_eruptions    0\n",
       "continuous_sneezing     0\n",
       "shivering               0\n",
       "                       ..\n",
       "inflammatory_nails      0\n",
       "blister                 0\n",
       "red_sore_around_nose    0\n",
       "yellow_crust_ooze       0\n",
       "prognosis               0\n",
       "Length: 133, dtype: int64"
      ]
     },
     "execution_count": 6,
     "metadata": {},
     "output_type": "execute_result"
    }
   ],
   "source": [
    "test.isnull().sum()"
   ]
  },
  {
   "cell_type": "code",
   "execution_count": 7,
   "id": "18369a52-c75c-42c5-89ea-8d08b2a854bc",
   "metadata": {},
   "outputs": [],
   "source": [
    "from sklearn.preprocessing import LabelEncoder"
   ]
  },
  {
   "cell_type": "code",
   "execution_count": 8,
   "id": "7a1d85e7-b0c5-4907-80e4-17d2cede810b",
   "metadata": {},
   "outputs": [],
   "source": [
    "le = LabelEncoder()"
   ]
  },
  {
   "cell_type": "code",
   "execution_count": 9,
   "id": "622d387c-fce4-49c0-982d-1582018c07ec",
   "metadata": {},
   "outputs": [
    {
     "data": {
      "text/plain": [
       "LabelEncoder()"
      ]
     },
     "execution_count": 9,
     "metadata": {},
     "output_type": "execute_result"
    }
   ],
   "source": [
    "le.fit(train[\"prognosis\"])"
   ]
  },
  {
   "cell_type": "code",
   "execution_count": 10,
   "id": "20476362-ac66-41fa-9b20-bf1655bccc72",
   "metadata": {},
   "outputs": [],
   "source": [
    "X_train = train.drop(\"prognosis\",axis=1).values\n",
    "y_train = le.transform(train[\"prognosis\"])"
   ]
  },
  {
   "cell_type": "code",
   "execution_count": 11,
   "id": "22771bf5-3bf7-4750-a8ad-6b0326ebdd3b",
   "metadata": {},
   "outputs": [],
   "source": [
    "X_test = test.drop(\"prognosis\",axis=1).values\n",
    "y_test = le.transform(test[\"prognosis\"])"
   ]
  },
  {
   "cell_type": "code",
   "execution_count": 12,
   "id": "ef730907-73b2-4821-a479-9718f648c89b",
   "metadata": {},
   "outputs": [],
   "source": [
    "from tensorflow.keras.models import Sequential\n",
    "from tensorflow.keras.layers import Dropout,Dense"
   ]
  },
  {
   "cell_type": "code",
   "execution_count": 13,
   "id": "91736609-8496-4ac0-8139-71021bfd104a",
   "metadata": {},
   "outputs": [],
   "source": [
    "model = Sequential()"
   ]
  },
  {
   "cell_type": "code",
   "execution_count": 14,
   "id": "7e1b0e56-2a51-4d97-8565-f6292619a7c7",
   "metadata": {},
   "outputs": [],
   "source": [
    "model.add(Dense(256,activation=\"relu\"))\n",
    "model.add(Dropout(0.3))\n",
    "model.add(Dense(128,activation=\"relu\"))\n",
    "model.add(Dropout(0.3))\n",
    "model.add(Dense(64,activation=\"relu\"))\n",
    "model.add(Dropout(0.3))\n",
    "model.add(Dense(64,activation=\"relu\"))\n",
    "model.add(Dropout(0.3))\n",
    "model.add(Dense(41,activation=\"softmax\"))"
   ]
  },
  {
   "cell_type": "code",
   "execution_count": 15,
   "id": "0ac5724d-6ae0-4177-995c-9a59ef1001ac",
   "metadata": {},
   "outputs": [],
   "source": [
    "model.compile(optimizer=\"adam\",loss=\"sparse_categorical_crossentropy\",metrics=[\"accuracy\"])"
   ]
  },
  {
   "cell_type": "code",
   "execution_count": 16,
   "id": "4730ae19-fb01-4b9b-9744-12bb2ae8267b",
   "metadata": {},
   "outputs": [],
   "source": [
    "from tensorflow.keras.callbacks import EarlyStopping"
   ]
  },
  {
   "cell_type": "code",
   "execution_count": 17,
   "id": "df0a7052-e061-439c-8b33-19b5410fdd47",
   "metadata": {},
   "outputs": [],
   "source": [
    "earlystop = EarlyStopping(monitor=\"val_loss\",mode=\"min\",verbose=1,patience=10)"
   ]
  },
  {
   "cell_type": "code",
   "execution_count": 18,
   "id": "b74b5111-532c-4916-aa50-0b89d3e650df",
   "metadata": {},
   "outputs": [
    {
     "name": "stdout",
     "output_type": "stream",
     "text": [
      "Epoch 1/100\n",
      "154/154 [==============================] - 1s 3ms/step - loss: 2.5034 - accuracy: 0.3530 - val_loss: 0.2967 - val_accuracy: 0.9762\n",
      "Epoch 2/100\n",
      "154/154 [==============================] - 0s 2ms/step - loss: 0.5700 - accuracy: 0.8352 - val_loss: 0.0773 - val_accuracy: 0.9762\n",
      "Epoch 3/100\n",
      "154/154 [==============================] - 0s 2ms/step - loss: 0.2879 - accuracy: 0.9136 - val_loss: 0.0614 - val_accuracy: 0.9762\n",
      "Epoch 4/100\n",
      "154/154 [==============================] - 0s 2ms/step - loss: 0.2046 - accuracy: 0.9362 - val_loss: 0.0891 - val_accuracy: 0.9762\n",
      "Epoch 5/100\n",
      "154/154 [==============================] - 0s 1ms/step - loss: 0.1521 - accuracy: 0.9522 - val_loss: 0.0548 - val_accuracy: 0.9762\n",
      "Epoch 6/100\n",
      "154/154 [==============================] - 0s 1ms/step - loss: 0.1169 - accuracy: 0.9632 - val_loss: 0.0843 - val_accuracy: 0.9762\n",
      "Epoch 7/100\n",
      "154/154 [==============================] - 0s 1ms/step - loss: 0.0910 - accuracy: 0.9738 - val_loss: 0.0548 - val_accuracy: 0.9762\n",
      "Epoch 8/100\n",
      "154/154 [==============================] - 0s 1ms/step - loss: 0.0903 - accuracy: 0.9726 - val_loss: 0.0969 - val_accuracy: 0.9762\n",
      "Epoch 9/100\n",
      "154/154 [==============================] - 0s 1ms/step - loss: 0.0747 - accuracy: 0.9758 - val_loss: 0.1119 - val_accuracy: 0.9762\n",
      "Epoch 10/100\n",
      "154/154 [==============================] - 0s 1ms/step - loss: 0.0633 - accuracy: 0.9789 - val_loss: 0.0907 - val_accuracy: 0.9762\n",
      "Epoch 11/100\n",
      "154/154 [==============================] - 0s 1ms/step - loss: 0.0594 - accuracy: 0.9811 - val_loss: 0.0947 - val_accuracy: 0.9762\n",
      "Epoch 12/100\n",
      "154/154 [==============================] - 0s 1ms/step - loss: 0.0499 - accuracy: 0.9823 - val_loss: 0.1153 - val_accuracy: 0.9762\n",
      "Epoch 13/100\n",
      "154/154 [==============================] - 0s 1ms/step - loss: 0.0569 - accuracy: 0.9799 - val_loss: 0.1169 - val_accuracy: 0.9762\n",
      "Epoch 14/100\n",
      "154/154 [==============================] - 0s 1ms/step - loss: 0.0560 - accuracy: 0.9839 - val_loss: 0.1076 - val_accuracy: 0.9762\n",
      "Epoch 15/100\n",
      "154/154 [==============================] - 0s 1ms/step - loss: 0.0445 - accuracy: 0.9852 - val_loss: 0.1066 - val_accuracy: 0.9762\n",
      "Epoch 00015: early stopping\n"
     ]
    },
    {
     "data": {
      "text/plain": [
       "<keras.callbacks.History at 0x7fbebcf88610>"
      ]
     },
     "execution_count": 18,
     "metadata": {},
     "output_type": "execute_result"
    }
   ],
   "source": [
    "model.fit(X_train,y_train,validation_data=(X_test,y_test),epochs=100,callbacks=[earlystop])"
   ]
  },
  {
   "cell_type": "code",
   "execution_count": 19,
   "id": "f3949691-7611-4532-a220-b3d154887b2d",
   "metadata": {},
   "outputs": [
    {
     "data": {
      "text/plain": [
       "Text(0.5, 1.0, 'Train and Validation')"
      ]
     },
     "execution_count": 19,
     "metadata": {},
     "output_type": "execute_result"
    },
    {
     "data": {
      "image/png": "[encoded data removed]",
      "text/plain": [
       "<Figure size 432x288 with 1 Axes>"
      ]
     },
     "metadata": {
      "needs_background": "light"
     },
     "output_type": "display_data"
    }
   ],
   "source": [
    "loss=model.history.history['loss']\n",
    "val_loss=model.history.history['val_loss']\n",
    "\n",
    "plt.plot(range(15),loss,label='Train Los')\n",
    "plt.plot(range(15),val_loss,label='Val Los')\n",
    "plt.legend(loc='upper right')\n",
    "plt.title('Train and Validation')"
   ]
  },
  {
   "cell_type": "code",
   "execution_count": 20,
   "id": "9e8d4f3c-be65-4422-b750-e525bb1a58ee",
   "metadata": {},
   "outputs": [],
   "source": [
    "model.save(\"trainedModel.h5\")"
   ]
  },
  {
   "cell_type": "code",
   "execution_count": null,
   "id": "bfdc6977-b019-4b8a-8049-f805117b3b4e",
   "metadata": {},
   "outputs": [],
   "source": []
  },
  {
   "cell_type": "code",
   "execution_count": null,
   "id": "c146716a-1985-47b4-b035-10fd30861602",
   "metadata": {},
   "outputs": [],
   "source": []
  },
  {
   "cell_type": "code",
   "execution_count": null,
   "id": "198cbef1-ce57-4c52-8888-9e88fce37799",
   "metadata": {},
   "outputs": [],
   "source": []
  },
  {
   "cell_type": "code",
   "execution_count": null,
   "id": "dd2363a4-1bf9-411c-b085-03d883d9f5fe",
   "metadata": {},
   "outputs": [],
   "source": []
  },
  {
   "cell_type": "code",
   "execution_count": null,
   "id": "0bd5a6fa-2c46-43b2-857d-a575d7bf0707",
   "metadata": {},
   "outputs": [],
   "source": []
  },
  {
   "cell_type": "code",
   "execution_count": null,
   "id": "501cb2f8-50ba-47cb-8624-480228199385",
   "metadata": {},
   "outputs": [],
   "source": []
  },
  {
   "cell_type": "code",
   "execution_count": null,
   "id": "2f9054b1-5a6f-42c1-ae12-3fbf4d4db7b8",
   "metadata": {},
   "outputs": [],
   "source": []
  },
  {
   "cell_type": "code",
   "execution_count": null,
   "id": "d8a37c24-d8d2-4234-bd27-afc20ea47424",
   "metadata": {},
   "outputs": [],
   "source": []
  },
  {
   "cell_type": "code",
   "execution_count": null,
   "id": "1a0831b1-38bf-401a-99fb-dc68e654cb55",
   "metadata": {},
   "outputs": [],
   "source": []
  },
  {
   "cell_type": "code",
   "execution_count": null,
   "id": "4e782b7f-1f64-4185-994f-3571ab3bce24",
   "metadata": {},
   "outputs": [],
   "source": []
  },
  {
   "cell_type": "code",
   "execution_count": null,
   "id": "a322585a-73f4-4198-9bcf-b39d29e49c8b",
   "metadata": {},
   "outputs": [],
   "source": []
  },
  {
   "cell_type": "code",
   "execution_count": null,
   "id": "b12bb103-ba3d-45b3-b524-e14f8436bbc4",
   "metadata": {},
   "outputs": [],
   "source": []
  }
 ],
 "metadata": {
  "kernelspec": {
   "display_name": "Python 3",
   "language": "python",
   "name": "python3"
  },
  "language_info": {
   "codemirror_mode": {
    "name": "ipython",
    "version": 3
   },
   "file_extension": ".py",
   "mimetype": "text/x-python",
   "name": "python",
   "nbconvert_exporter": "python",
   "pygments_lexer": "ipython3",
   "version": "3.8.8"
  }
 },
 "nbformat": 4,
 "nbformat_minor": 5
}
