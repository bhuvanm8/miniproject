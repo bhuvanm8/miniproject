{
 "cells": [
  {
   "cell_type": "code",
   "execution_count": 1,
   "id": "cf0ed2f9-2543-4dd7-b6f7-a646e071483e",
   "metadata": {},
   "outputs": [],
   "source": [
    "import numpy as np\n",
    "import pandas as pd\n",
    "import matplotlib.pyplot as plt"
   ]
  },
  {
   "cell_type": "code",
   "execution_count": 2,
   "id": "f83e111c-9ceb-4e57-9134-47419446e139",
   "metadata": {},
   "outputs": [],
   "source": [
    "train = pd.read_csv(\"Training.csv\")"
   ]
  },
  {
   "cell_type": "code",
   "execution_count": 3,
   "id": "8569dd75-475d-4f89-a992-747bb3e2719e",
   "metadata": {},
   "outputs": [],
   "source": [
    "test = pd.read_csv(\"Testing.csv\")"
   ]
  },
  {
   "cell_type": "code",
   "execution_count": 4,
   "id": "bb47a526-b868-4fee-a86e-1b701f8080c1",
   "metadata": {},
   "outputs": [],
   "source": [
    "train.drop(\"Unnamed: 133\",axis=1,inplace=True)"
   ]
  },
  {
   "cell_type": "code",
   "execution_count": 5,
   "id": "d5d98fdc-e8a0-434f-93a1-817ae2c8ae4d",
   "metadata": {},
   "outputs": [
    {
     "data": {
      "text/plain": [
       "itching                 0\n",
       "skin_rash               0\n",
       "nodal_skin_eruptions    0\n",
       "continuous_sneezing     0\n",
       "shivering               0\n",
       "                       ..\n",
       "inflammatory_nails      0\n",
       "blister                 0\n",
       "red_sore_around_nose    0\n",
       "yellow_crust_ooze       0\n",
       "prognosis               0\n",
       "Length: 133, dtype: int64"
      ]
     },
     "execution_count": 5,
     "metadata": {},
     "output_type": "execute_result"
    }
   ],
   "source": [
    "train.isnull().sum()"
   ]
  },
  {
   "cell_type": "code",
   "execution_count": 6,
   "id": "2d90d3a4-5fad-4d9e-b567-2a9ba2e9f90c",
   "metadata": {},
   "outputs": [
    {
     "data": {
      "text/plain": [
       "itching                 0\n",
       "skin_rash               0\n",
       "nodal_skin_eruptions    0\n",
       "continuous_sneezing     0\n",
       "shivering               0\n",
       "                       ..\n",
       "inflammatory_nails      0\n",
       "blister                 0\n",
       "red_sore_around_nose    0\n",
       "yellow_crust_ooze       0\n",
       "prognosis               0\n",
       "Length: 133, dtype: int64"
      ]
     },
     "execution_count": 6,
     "metadata": {},
     "output_type": "execute_result"
    }
   ],
   "source": [
    "test.isnull().sum()"
   ]
  },
  {
   "cell_type": "code",
   "execution_count": 7,
   "id": "18369a52-c75c-42c5-89ea-8d08b2a854bc",
   "metadata": {},
   "outputs": [],
   "source": [
    "from sklearn.preprocessing import LabelEncoder"
   ]
  },
  {
   "cell_type": "code",
   "execution_count": 8,
   "id": "7a1d85e7-b0c5-4907-80e4-17d2cede810b",
   "metadata": {},
   "outputs": [],
   "source": [
    "le = LabelEncoder()"
   ]
  },
  {
   "cell_type": "code",
   "execution_count": 9,
   "id": "622d387c-fce4-49c0-982d-1582018c07ec",
   "metadata": {},
   "outputs": [
    {
     "data": {
      "text/plain": [
       "LabelEncoder()"
      ]
     },
     "execution_count": 9,
     "metadata": {},
     "output_type": "execute_result"
    }
   ],
   "source": [
    "le.fit(train[\"prognosis\"])"
   ]
  },
  {
   "cell_type": "code",
   "execution_count": 10,
   "id": "20476362-ac66-41fa-9b20-bf1655bccc72",
   "metadata": {},
   "outputs": [],
   "source": [
    "X_train = train.drop(\"prognosis\",axis=1).values\n",
    "y_train = le.transform(train[\"prognosis\"])"
   ]
  },
  {
   "cell_type": "code",
   "execution_count": 11,
   "id": "22771bf5-3bf7-4750-a8ad-6b0326ebdd3b",
   "metadata": {},
   "outputs": [],
   "source": [
    "X_test = test.drop(\"prognosis\",axis=1).values\n",
    "y_test = le.transform(test[\"prognosis\"])"
   ]
  },
  {
   "cell_type": "code",
   "execution_count": 12,
   "id": "ef730907-73b2-4821-a479-9718f648c89b",
   "metadata": {},
   "outputs": [],
   "source": [
    "from tensorflow.keras.models import Sequential\n",
    "from tensorflow.keras.layers import Dropout,Dense"
   ]
  },
  {
   "cell_type": "code",
   "execution_count": 31,
   "id": "91736609-8496-4ac0-8139-71021bfd104a",
   "metadata": {},
   "outputs": [],
   "source": [
    "model = Sequential()"
   ]
  },
  {
   "cell_type": "code",
   "execution_count": 32,
   "id": "7e1b0e56-2a51-4d97-8565-f6292619a7c7",
   "metadata": {},
   "outputs": [],
   "source": [
    "model.add(Dense(133,activation=\"relu\"))\n",
    "model.add(Dropout(0.3))\n",
    "model.add(Dense(64,activation=\"relu\"))\n",
    "model.add(Dropout(0.3))\n",
    "model.add(Dense(64,activation=\"relu\"))\n",
    "model.add(Dropout(0.3))\n",
    "model.add(Dense(64,activation=\"relu\"))\n",
    "model.add(Dropout(0.3))\n",
    "model.add(Dense(41,activation=\"sigmoid\"))"
   ]
  },
  {
   "cell_type": "code",
   "execution_count": 33,
   "id": "0ac5724d-6ae0-4177-995c-9a59ef1001ac",
   "metadata": {},
   "outputs": [],
   "source": [
    "model.compile(optimizer=\"adam\",loss=\"sparse_categorical_crossentropy\")"
   ]
  },
  {
   "cell_type": "code",
   "execution_count": 34,
   "id": "4730ae19-fb01-4b9b-9744-12bb2ae8267b",
   "metadata": {},
   "outputs": [],
   "source": [
    "from tensorflow.keras.callbacks import EarlyStopping"
   ]
  },
  {
   "cell_type": "code",
   "execution_count": 35,
   "id": "df0a7052-e061-439c-8b33-19b5410fdd47",
   "metadata": {},
   "outputs": [],
   "source": [
    "earlystop = EarlyStopping(monitor=\"val_loss\",mode=\"min\",verbose=1,patience=10)"
   ]
  },
  {
   "cell_type": "code",
   "execution_count": 36,
   "id": "b74b5111-532c-4916-aa50-0b89d3e650df",
   "metadata": {},
   "outputs": [
    {
     "name": "stdout",
     "output_type": "stream",
     "text": [
      "Epoch 1/100\n",
      "154/154 [==============================] - 1s 2ms/step - loss: 2.9924 - val_loss: 0.9760\n",
      "Epoch 2/100\n",
      "154/154 [==============================] - 0s 1ms/step - loss: 1.1187 - val_loss: 0.1043\n",
      "Epoch 3/100\n",
      "154/154 [==============================] - 0s 1ms/step - loss: 0.5552 - val_loss: 0.0498\n",
      "Epoch 4/100\n",
      "154/154 [==============================] - 0s 2ms/step - loss: 0.3914 - val_loss: 0.0306\n",
      "Epoch 5/100\n",
      "154/154 [==============================] - 0s 1ms/step - loss: 0.3086 - val_loss: 0.0665\n",
      "Epoch 6/100\n",
      "154/154 [==============================] - 0s 1ms/step - loss: 0.2473 - val_loss: 0.0719\n",
      "Epoch 7/100\n",
      "154/154 [==============================] - 0s 1ms/step - loss: 0.2207 - val_loss: 0.0280\n",
      "Epoch 8/100\n",
      "154/154 [==============================] - 0s 1ms/step - loss: 0.1979 - val_loss: 0.0385\n",
      "Epoch 9/100\n",
      "154/154 [==============================] - 0s 1ms/step - loss: 0.1599 - val_loss: 0.0680\n",
      "Epoch 10/100\n",
      "154/154 [==============================] - 0s 1ms/step - loss: 0.1671 - val_loss: 0.0979\n",
      "Epoch 11/100\n",
      "154/154 [==============================] - 0s 1ms/step - loss: 0.1420 - val_loss: 0.0769\n",
      "Epoch 12/100\n",
      "154/154 [==============================] - 0s 1ms/step - loss: 0.1309 - val_loss: 0.0755\n",
      "Epoch 13/100\n",
      "154/154 [==============================] - 0s 1ms/step - loss: 0.1149 - val_loss: 0.0701\n",
      "Epoch 14/100\n",
      "154/154 [==============================] - 0s 1ms/step - loss: 0.1177 - val_loss: 0.0752\n",
      "Epoch 15/100\n",
      "154/154 [==============================] - 0s 1ms/step - loss: 0.1060 - val_loss: 0.0666\n",
      "Epoch 16/100\n",
      "154/154 [==============================] - 0s 1ms/step - loss: 0.1030 - val_loss: 0.0658\n",
      "Epoch 17/100\n",
      "154/154 [==============================] - 0s 1ms/step - loss: 0.0959 - val_loss: 0.0606\n",
      "Epoch 00017: early stopping\n"
     ]
    },
    {
     "data": {
      "text/plain": [
       "<keras.callbacks.History at 0x7f922937b400>"
      ]
     },
     "execution_count": 36,
     "metadata": {},
     "output_type": "execute_result"
    }
   ],
   "source": [
    "model.fit(X_train,y_train,validation_data=(X_test,y_test),epochs=100,callbacks=[earlystop])"
   ]
  },
  {
   "cell_type": "code",
   "execution_count": 37,
   "id": "f3949691-7611-4532-a220-b3d154887b2d",
   "metadata": {},
   "outputs": [
    {
     "data": {
      "text/plain": [
       "<AxesSubplot:>"
      ]
     },
     "execution_count": 37,
     "metadata": {},
     "output_type": "execute_result"
    },
    {
     "data": {
      "image/png": "[encoded data removed]",
      "text/plain": [
       "<Figure size 432x288 with 1 Axes>"
      ]
     },
     "metadata": {
      "needs_background": "light"
     },
     "output_type": "display_data"
    }
   ],
   "source": [
    "pd.DataFrame(model.history.history).plot()"
   ]
  },
  {
   "cell_type": "code",
   "execution_count": 38,
   "id": "6402d306-0c4f-4149-8b1a-b61639e48800",
   "metadata": {},
   "outputs": [],
   "source": [
    "pred = model.predict(X_test)"
   ]
  },
  {
   "cell_type": "code",
   "execution_count": 85,
   "id": "5858bd75-6d87-41b9-b941-9a5e3f94bb0e",
   "metadata": {},
   "outputs": [],
   "source": [
    "prediction = []\n",
    "for x in pred:\n",
    "    prediction.append(np.argmax(x))"
   ]
  },
  {
   "cell_type": "code",
   "execution_count": 57,
   "id": "9e8d4f3c-be65-4422-b750-e525bb1a58ee",
   "metadata": {},
   "outputs": [],
   "source": [
    "model.save(\"trainedModel.h5\")"
   ]
  },
  {
   "cell_type": "code",
   "execution_count": 87,
   "id": "bfdc6977-b019-4b8a-8049-f805117b3b4e",
   "metadata": {},
   "outputs": [],
   "source": [
    "from sklearn.metrics import classification_report,confusion_matrix"
   ]
  },
  {
   "cell_type": "code",
   "execution_count": 86,
   "id": "dd2363a4-1bf9-411c-b085-03d883d9f5fe",
   "metadata": {},
   "outputs": [
    {
     "name": "stdout",
     "output_type": "stream",
     "text": [
      "              precision    recall  f1-score   support\n",
      "\n",
      "           0       1.00      1.00      1.00         1\n",
      "           1       1.00      1.00      1.00         1\n",
      "           2       1.00      1.00      1.00         1\n",
      "           3       1.00      1.00      1.00         1\n",
      "           4       1.00      1.00      1.00         1\n",
      "           5       1.00      1.00      1.00         1\n",
      "           6       1.00      1.00      1.00         1\n",
      "           7       1.00      1.00      1.00         1\n",
      "           8       1.00      1.00      1.00         1\n",
      "           9       1.00      1.00      1.00         1\n",
      "          10       1.00      1.00      1.00         1\n",
      "          11       1.00      1.00      1.00         1\n",
      "          12       1.00      1.00      1.00         1\n",
      "          13       1.00      1.00      1.00         1\n",
      "          14       1.00      1.00      1.00         1\n",
      "          15       1.00      0.50      0.67         2\n",
      "          16       1.00      1.00      1.00         1\n",
      "          17       1.00      1.00      1.00         1\n",
      "          18       1.00      1.00      1.00         1\n",
      "          19       1.00      1.00      1.00         1\n",
      "          20       1.00      1.00      1.00         1\n",
      "          21       1.00      1.00      1.00         1\n",
      "          22       1.00      1.00      1.00         1\n",
      "          23       1.00      1.00      1.00         1\n",
      "          24       1.00      1.00      1.00         1\n",
      "          25       1.00      1.00      1.00         1\n",
      "          26       1.00      1.00      1.00         1\n",
      "          27       0.50      1.00      0.67         1\n",
      "          28       1.00      1.00      1.00         1\n",
      "          29       1.00      1.00      1.00         1\n",
      "          30       1.00      1.00      1.00         1\n",
      "          31       1.00      1.00      1.00         1\n",
      "          32       1.00      1.00      1.00         1\n",
      "          33       1.00      1.00      1.00         1\n",
      "          34       1.00      1.00      1.00         1\n",
      "          35       1.00      1.00      1.00         1\n",
      "          36       1.00      1.00      1.00         1\n",
      "          37       1.00      1.00      1.00         1\n",
      "          38       1.00      1.00      1.00         1\n",
      "          39       1.00      1.00      1.00         1\n",
      "          40       1.00      1.00      1.00         1\n",
      "\n",
      "    accuracy                           0.98        42\n",
      "   macro avg       0.99      0.99      0.98        42\n",
      "weighted avg       0.99      0.98      0.98        42\n",
      "\n"
     ]
    }
   ],
   "source": [
    "print(classification_report(y_test,prediction))"
   ]
  },
  {
   "cell_type": "code",
   "execution_count": null,
   "id": "501cb2f8-50ba-47cb-8624-480228199385",
   "metadata": {},
   "outputs": [],
   "source": []
  },
  {
   "cell_type": "code",
   "execution_count": null,
   "id": "2f9054b1-5a6f-42c1-ae12-3fbf4d4db7b8",
   "metadata": {},
   "outputs": [],
   "source": []
  },
  {
   "cell_type": "code",
   "execution_count": null,
   "id": "d8a37c24-d8d2-4234-bd27-afc20ea47424",
   "metadata": {},
   "outputs": [],
   "source": []
  },
  {
   "cell_type": "code",
   "execution_count": null,
   "id": "1a0831b1-38bf-401a-99fb-dc68e654cb55",
   "metadata": {},
   "outputs": [],
   "source": []
  },
  {
   "cell_type": "code",
   "execution_count": null,
   "id": "4e782b7f-1f64-4185-994f-3571ab3bce24",
   "metadata": {},
   "outputs": [],
   "source": []
  },
  {
   "cell_type": "code",
   "execution_count": null,
   "id": "a322585a-73f4-4198-9bcf-b39d29e49c8b",
   "metadata": {},
   "outputs": [],
   "source": []
  },
  {
   "cell_type": "code",
   "execution_count": null,
   "id": "b12bb103-ba3d-45b3-b524-e14f8436bbc4",
   "metadata": {},
   "outputs": [],
   "source": []
  }
 ],
 "metadata": {
  "kernelspec": {
   "display_name": "Python 3",
   "language": "python",
   "name": "python3"
  },
  "language_info": {
   "codemirror_mode": {
    "name": "ipython",
    "version": 3
   },
   "file_extension": ".py",
   "mimetype": "text/x-python",
   "name": "python",
   "nbconvert_exporter": "python",
   "pygments_lexer": "ipython3",
   "version": "3.8.8"
  }
 },
 "nbformat": 4,
 "nbformat_minor": 5
}
